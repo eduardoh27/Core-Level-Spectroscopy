{
 "cells": [
  {
   "cell_type": "code",
   "execution_count": null,
   "metadata": {},
   "outputs": [],
   "source": [
    "# revisión de energia ascendente\n",
    "\n",
    "for n, e in enumerate(energy):\n",
    "    if e > 0 and e - energy[n - 1] < 0:\n",
    "        print('Error: la energía no está ordenada')\n",
    "        break\n"
   ]
  },
  {
   "cell_type": "code",
   "execution_count": null,
   "metadata": {},
   "outputs": [],
   "source": [
    "# picos de counts usando np.argmax\n",
    "\n",
    "peaks = []\n",
    "\n",
    "for _ in range(5):\n",
    "    peak = energy.pop(counts.index(max(counts)))\n",
    "    peaks.append(peak)\n",
    "\n",
    "print(peaks)\n",
    "\n",
    "# Número de elementos máximos a obtener\n",
    "n = 3\n",
    "\n",
    "# Usar numpy.argsort para obtener los índices de los n valores máximos\n",
    "indices = np.argsort(peaks)[-n:]\n"
   ]
  }
 ],
 "metadata": {
  "language_info": {
   "name": "python"
  }
 },
 "nbformat": 4,
 "nbformat_minor": 2
}
